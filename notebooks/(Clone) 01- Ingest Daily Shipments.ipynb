{
 "cells": [
  {
   "cell_type": "code",
   "execution_count": 0,
   "metadata": {
    "application/vnd.databricks.v1+cell": {
     "cellMetadata": {},
     "inputWidgets": {},
     "nuid": "5f6d0dd4-2a58-448b-b4f4-474cac2ee09a",
     "showTitle": false,
     "tableResultSettingsMap": {},
     "title": ""
    }
   },
   "outputs": [],
   "source": [
    "# Databricks notebook source\n",
    "# Cell 1: Securely Configure Storage Access\n",
    "#scope_name = \"trubrixai-lab-scope\"\n",
    "#secret_name = \"trubrixaidevst-access-key\"\n",
    "#storage_account_name = \"trubrixaidevst\"\n",
    "\n",
    "#storage_account_key = dbutils.secrets.get(scope=scope_name, key=secret_name)\n",
    "\n",
    "#spark.conf.set(\n",
    "#  f\"fs.azure.account.key.{storage_account_name}.dfs.core.windows.net\",\n",
    "#  storage_account_key\n",
    "#)\n",
    "#print(\"Configuration set securely for this notebook session.\")\n",
    "\n",
    "# COMMAND ----------\n",
    "\n"
   ]
  },
  {
   "cell_type": "code",
   "execution_count": 0,
   "metadata": {
    "application/vnd.databricks.v1+cell": {
     "cellMetadata": {
      "byteLimit": 2048000,
      "rowLimit": 10000
     },
     "inputWidgets": {},
     "nuid": "97f88872-0eed-4073-a98a-cce4f7715b7e",
     "showTitle": false,
     "tableResultSettingsMap": {},
     "title": ""
    }
   },
   "outputs": [],
   "source": [
    "# Cell 2: Define Paths for Staging and Bronze Landing Zone\n",
    "# The source directory in DBFS where we upload files manually\n",
    "source_directory = \"/FileStore/tables/\"\n",
    "\n",
    "# A single, consistent destination folder for our daily batch.\n",
    "destination_directory = \"abfss://bronze@trubrixaidevst.dfs.core.windows.net/shipments/daily_batch/\"\n",
    "\n",
    "print(f\"Source Staging Area: {source_directory}\")\n",
    "print(f\"Bronze Landing Zone: {destination_directory}\")\n",
    "\n",
    "# COMMAND ----------\n",
    "\n"
   ]
  },
  {
   "cell_type": "code",
   "execution_count": 0,
   "metadata": {
    "application/vnd.databricks.v1+cell": {
     "cellMetadata": {
      "byteLimit": 2048000,
      "rowLimit": 10000
     },
     "inputWidgets": {},
     "nuid": "d3705018-4b34-47eb-9403-9a8cb1bf7802",
     "showTitle": false,
     "tableResultSettingsMap": {},
     "title": ""
    }
   },
   "outputs": [],
   "source": [
    "# Cell 3: Clean the Bronze Landing Zone (CRITICAL STEP)\n",
    "# To ensure we only process the new batch, we first delete all contents\n",
    "# from our landing zone. This guarantees a clean slate for every run.\n",
    "print(f\"Cleaning previous batch from: {destination_directory}\")\n",
    "try:\n",
    "  dbutils.fs.rm(destination_directory, recurse=True)\n",
    "  print(\"Landing zone cleaned successfully.\")\n",
    "except Exception as e:\n",
    "  print(f\"Landing zone was already empty or did not exist, which is okay: {e}\")\n",
    "\n",
    "# Re-create the empty directory\n",
    "dbutils.fs.mkdirs(destination_directory)\n",
    "print(\"Landing zone is ready for new batch.\")\n",
    "\n",
    "# COMMAND ----------\n",
    "\n"
   ]
  },
  {
   "cell_type": "code",
   "execution_count": 0,
   "metadata": {
    "application/vnd.databricks.v1+cell": {
     "cellMetadata": {
      "byteLimit": 2048000,
      "rowLimit": 10000
     },
     "inputWidgets": {},
     "nuid": "936d480f-a069-4b9c-94cc-a0e457f3be4c",
     "showTitle": false,
     "tableResultSettingsMap": {},
     "title": ""
    }
   },
   "outputs": [],
   "source": [
    "# Cell 4: Move the New Batch of Files\n",
    "# Now we move the new files from the staging area into our clean landing zone.\n",
    "print(\"\\nMoving new batch of files...\")\n",
    "for file in dbutils.fs.ls(source_directory):\n",
    "  print(f\"Moving file: {file.name}\")\n",
    "  dbutils.fs.mv(file.path, destination_directory + file.name)\n",
    "\n",
    "print(f\"Successfully moved all files to the landing zone.\")\n",
    "\n",
    "# COMMAND ----------\n",
    "\n",
    "# Cell 5: Verify the Files Arrived\n",
    "print(\"\\nVerifying files in the landing zone:\")\n",
    "display(dbutils.fs.ls(destination_directory))"
   ]
  }
 ],
 "metadata": {
  "application/vnd.databricks.v1+notebook": {
   "computePreferences": null,
   "dashboards": [],
   "environmentMetadata": {
    "base_environment": "",
    "environment_version": "2"
   },
   "inputWidgetPreferences": null,
   "language": "python",
   "notebookMetadata": {
    "pythonIndentUnit": 4
   },
   "notebookName": "(Clone) 01- Ingest Daily Shipments",
   "widgets": {}
  },
  "language_info": {
   "name": "python"
  }
 },
 "nbformat": 4,
 "nbformat_minor": 0
}
