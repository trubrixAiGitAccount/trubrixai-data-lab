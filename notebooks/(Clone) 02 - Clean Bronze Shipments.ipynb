{
 "cells": [
  {
   "cell_type": "code",
   "execution_count": 0,
   "metadata": {
    "application/vnd.databricks.v1+cell": {
     "cellMetadata": {
      "byteLimit": 2048000,
      "rowLimit": 10000
     },
     "inputWidgets": {},
     "nuid": "3f37a090-c2ea-4c97-b91b-f3acf87a8634",
     "showTitle": false,
     "tableResultSettingsMap": {},
     "title": ""
    }
   },
   "outputs": [],
   "source": [
    "# Define the catalog and schema names\n",
    "silver_catalog_name = \"trubrixai_dev_ws_cin_01\" \n",
    "silver_schema_name = \"silver_data\"\n",
    "\n",
    "# Create the schema if it doesn't already exist.\n",
    "spark.sql(f\"CREATE SCHEMA IF NOT EXISTS {silver_catalog_name}.{silver_schema_name}\")\n",
    "\n",
    "# Overwrite the variables with the new, correct three-level name and path\n",
    "silver_table_name = f\"{silver_catalog_name}.{silver_schema_name}.shipments\"\n",
    "silver_table_path = \"abfss://silver@trubrixaidevst.dfs.core.windows.net/shipments\"\n",
    "\n",
    "print(f\"Silver table name has been RESET to: {silver_table_name}\")\n",
    "print(f\"Silver table path has been RESET to: {silver_table_path}\")"
   ]
  },
  {
   "cell_type": "code",
   "execution_count": 0,
   "metadata": {
    "application/vnd.databricks.v1+cell": {
     "cellMetadata": {
      "byteLimit": 2048000,
      "rowLimit": 10000
     },
     "inputWidgets": {},
     "nuid": "c2e31aca-5c3a-4466-8618-039e90b55f6f",
     "showTitle": false,
     "tableResultSettingsMap": {},
     "title": ""
    }
   },
   "outputs": [],
   "source": []
  },
  {
   "cell_type": "code",
   "execution_count": 0,
   "metadata": {
    "application/vnd.databricks.v1+cell": {
     "cellMetadata": {
      "byteLimit": 2048000,
      "rowLimit": 10000
     },
     "inputWidgets": {},
     "nuid": "30331f94-3a38-4c61-880f-e6d8fd6df6be",
     "showTitle": false,
     "tableResultSettingsMap": {},
     "title": ""
    }
   },
   "outputs": [],
   "source": [
    "# COMMAND ----------\n",
    "\n",
    "# Cell 3: Read All Raw Data into a Single DataFrame\n",
    "# Spark reads all CSV files from the landing zone directory.\n",
    "raw_shipments_df = spark.read.format(\"csv\").load(bronze_folder_path, header=True, inferSchema=True)\n",
    "\n",
    "print(\"Displaying combined raw data from Bronze layer:\")\n",
    "display(raw_shipments_df)"
   ]
  },
  {
   "cell_type": "code",
   "execution_count": 0,
   "metadata": {
    "application/vnd.databricks.v1+cell": {
     "cellMetadata": {
      "byteLimit": 2048000,
      "rowLimit": 10000
     },
     "inputWidgets": {},
     "nuid": "8978cea4-3f76-4985-846e-e05a3545d6b5",
     "showTitle": false,
     "tableResultSettingsMap": {},
     "title": ""
    }
   },
   "outputs": [],
   "source": [
    "# COMMAND ----------\n",
    "\n",
    "# Cell 4: Clean and Transform Data\n",
    "from pyspark.sql.functions import col, current_date, to_date\n",
    "\n",
    "cleaned_shipments_df = raw_shipments_df.distinct()\n",
    "cleaned_shipments_df = cleaned_shipments_df.withColumn(\"ingestion_date\", current_date()) \\\n",
    "                                           .withColumn(\"shipment_date\", to_date(col(\"shipment_date\")))\n",
    "\n",
    "print(\"Displaying cleaned and transformed data:\")\n",
    "display(cleaned_shipments_df)"
   ]
  },
  {
   "cell_type": "code",
   "execution_count": 0,
   "metadata": {
    "application/vnd.databricks.v1+cell": {
     "cellMetadata": {
      "byteLimit": 2048000,
      "rowLimit": 10000
     },
     "inputWidgets": {},
     "nuid": "1586d71a-44c4-4ce0-a083-8705706a53a2",
     "showTitle": false,
     "tableResultSettingsMap": {},
     "title": ""
    }
   },
   "outputs": [],
   "source": [
    "# COMMAND ----------\n",
    "\n",
    "# Cell 5: Save as a Delta Table in the Silver Layer\n",
    "# This robust overwrite command will now work correctly every time.\n",
    "\n",
    "print(f\"Overwriting Silver table '{silver_table_name}'...\")\n",
    "(cleaned_shipments_df.write\n",
    "  .format(\"delta\")\n",
    "  .mode(\"overwrite\")\n",
    "  .option(\"overwriteSchema\", \"true\")\n",
    "#  .option(\"path\", silver_table_path)\n",
    "  .saveAsTable(silver_table_name)\n",
    ")\n",
    "print(f\"Successfully overwrote Silver Delta table '{silver_table_name}'.\")\n",
    "\n",
    "# COMMAND ----------"
   ]
  },
  {
   "cell_type": "code",
   "execution_count": 0,
   "metadata": {
    "application/vnd.databricks.v1+cell": {
     "cellMetadata": {
      "byteLimit": 2048000,
      "rowLimit": 10000
     },
     "inputWidgets": {},
     "nuid": "8f286fe7-4426-45cf-ac4a-78306cff6938",
     "showTitle": false,
     "tableResultSettingsMap": {},
     "title": ""
    }
   },
   "outputs": [],
   "source": [
    "# Cell 6: Verify the Silver Table by Reading It\n",
    "print(\"\\n--- Reading data back from the Silver Delta table to verify ---\")\n",
    "silver_df = spark.read.table(silver_table_name)\n",
    "\n",
    "print(f\"Verification successful. The Silver table now contains {silver_df.count()} rows.\")\n",
    "display(silver_df)"
   ]
  }
 ],
 "metadata": {
  "application/vnd.databricks.v1+notebook": {
   "computePreferences": null,
   "dashboards": [],
   "environmentMetadata": {
    "base_environment": "",
    "environment_version": "2"
   },
   "inputWidgetPreferences": null,
   "language": "python",
   "notebookMetadata": {
    "pythonIndentUnit": 4
   },
   "notebookName": "(Clone) 02 - Clean Bronze Shipments",
   "widgets": {}
  },
  "language_info": {
   "name": "python"
  }
 },
 "nbformat": 4,
 "nbformat_minor": 0
}
